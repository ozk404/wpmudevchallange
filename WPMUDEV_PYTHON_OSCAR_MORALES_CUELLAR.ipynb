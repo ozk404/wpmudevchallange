{
  "nbformat": 4,
  "nbformat_minor": 0,
  "metadata": {
    "colab": {
      "provenance": [],
      "authorship_tag": "ABX9TyNBiECca4MkWQw3lmCeJgPQ",
      "include_colab_link": true
    },
    "kernelspec": {
      "name": "python3",
      "display_name": "Python 3"
    },
    "language_info": {
      "name": "python"
    }
  },
  "cells": [
    {
      "cell_type": "markdown",
      "metadata": {
        "id": "view-in-github",
        "colab_type": "text"
      },
      "source": [
        "<a href=\"https://colab.research.google.com/github/ozk404/wpmudevchallange/blob/main/WPMUDEV_PYTHON_OSCAR_MORALES_CUELLAR.ipynb\" target=\"_parent\"><img src=\"https://colab.research.google.com/assets/colab-badge.svg\" alt=\"Open In Colab\"/></a>"
      ]
    },
    {
      "cell_type": "markdown",
      "source": [
        "# Python Developer Application Task - WPMUDEV\n",
        "## Oscar Morales Cuellar (OscarMoralesGT.com) 🇬🇹\n",
        "Hello! :D\n",
        "I'm Oscar Morales Cuellar, a passionate and experienced Guatemalan Software Engineer with over 4 years of expertise in designing and building scalable web applications using Flask, and Django with React and Vue. My technical toolkit includes advanced proficiency in Python, Docker, and both relational and non-relational databases such as PostgreSQL, MySQL, and MongoDB. I also bring a solid understanding of frontend technologies like React and Vue.js. With hands-on experience in Google Cloud Platform (GCP) and ongoing AWS expertise development, I’ve successfully managed cloud-based solutions. Notably, I manage a WordPress portfolio that attracts over 30,000 monthly users, showcasing my ability to deliver impactful and reliable web solutions.\n",
        "\n",
        "This is my answers for the WPMUDEV Pre Challange"
      ],
      "metadata": {
        "id": "mkV_tf9rvEmJ"
      }
    },
    {
      "cell_type": "markdown",
      "source": [
        "###**AWSDynamoDB**  \n",
        "(While my experience with DynamoDB is limited compared to other databases like PostgreSQL, MongoDB, and SQL, I researched this topic to ensure my understanding is accurate :))\n",
        "\n",
        "1. **What is the difference between Query and Scan operations in DynamoDB?**  \n",
        "a **Query** operation is more eficient because it retrieves items based on the primary key (PK) using an indexed lookup, query only scans the relevant partition, making it faster and cost effective, a **Scan** operation reads the entire table sequentially, which can be intensive and slow, especially for large and big datasets, we typically use scan only when you cannot filter items using indexed keys.  \n",
        "\n",
        "2. **What are projection expressions in DynamoDB?**  \n",
        "Projection Expression allows you to specify the attributes you want to retrieve when performing a query or a scan, this helps minimize the amount of data returned.\n",
        "\n",
        "```python\n",
        "response = table.query(\n",
        "    KeyConditionExpression=Key('id').eq('123'),\n",
        "    ProjectionExpression='atributo1, atributo2'\n",
        ")\n",
        "```\n",
        "\n",
        "3. **How would you make items in a DynamoDB table expire after a period of time?**  \n",
        "You can enable Time to Live (TTL) in a DynamoDB table, similar to how TTL works in MongoDB. You designate a specific attribute (e.g., expiresAt) to store a timestamp in Unix epoch format. DynamoDB automatically deletes items when this timestamp is reached, making it ideal for managing temporary data like sessions or cache record.\n"
      ],
      "metadata": {
        "id": "S-AvpYDcuKpS"
      }
    },
    {
      "cell_type": "markdown",
      "source": [
        "\n",
        "### **Docker**  \n",
        "\n",
        "4. **How would we map ports in Docker using CLI commands?**  \n",
        "You use the -p flag in the Docker CLI  \n",
        "```\n",
        "docker run -p <host_port>:<container_port> <image_name>\n",
        "```\n",
        "Example:  \n",
        "```\n",
        "docker run -p 8080:80 wpmudev-nginx\n",
        "```\n",
        "This maps port `8080` on the host to port `80` in the container.\n",
        "\n",
        "\n",
        "5. **What is the difference between docker stop and docker kill commands?**\n",
        "\n",
        "  **`docker stop`** allows the container to gracefully shut down and run any cleanup processes defined in the application before termination, on the other hand, **`docker kill`** immediately terminates the container b with no chance for cleanup (similar to pressing the power button on your computer to shut it dow). I’ve learned it’s better to use docker stop when possible and reserve docker kill for cases where the container is stuck or unresponsive.\n",
        "\n"
      ],
      "metadata": {
        "id": "HCveQZsk0e2G"
      }
    },
    {
      "cell_type": "markdown",
      "source": [
        "### **AWSBatch**  \n",
        "\n",
        "6. **What are the states a job can have when submitted to an AWS Batch job queue?**  \n",
        "\n",
        "While I haven’t worked extensively with AWS Batch, I’ve learned that jobs in AWS Batch can transition through several states during execution:  \n",
        "\n",
        "- **Submitted**: The job has been received by the job queue but hasn’t started yet.  \n",
        "- **Pending**: The job is waiting for resources to become available or for dependencies to be resolved.  \n",
        "- **Runnable**: The job is ready to run but waiting for compute resources.  \n",
        "- **Starting**: The job is being initialized in the compute environment.  \n",
        "- **Running**: The job is actively executing.  \n",
        "- **Succeeded**: The job has finished successfully.  \n",
        "- **Failed**: The job execution failed, even after retries, if defined.\n",
        "\n",
        "---\n",
        "\n",
        "7. **What are the main AWS Batch resource types used in a CloudFormation template?**  \n",
        "\n",
        "From what I’ve researched, the key AWS Batch resources in a CloudFormation template are:  \n",
        "\n",
        "- **Job Definition**: Defines how the job should run, including its image, environment variables, memory, and vCPU requirements.  \n",
        "- **Job Queue**: Specifies where jobs are submitted and includes priority settings.  \n",
        "- **Compute Environment**: Defines the compute resources, such as EC2 instances or Fargate, used to run jobs.\n",
        "\n",
        "Example:\n",
        "```yaml\n",
        "Resources:\n",
        "  BatchJobDefinition:\n",
        "    Type: AWS::Batch::JobDefinition\n",
        "    Properties:\n",
        "      Type: \"container\"\n",
        "      ContainerProperties:\n",
        "        Image: \"my-docker-image\"\n",
        "```\n",
        "\n",
        "---\n",
        "\n",
        "8. **How would you pass named arguments with parameterized values in a Batch job definition?**  \n",
        "\n",
        "Although I haven’t implemented this in a real project, I’ve learned that you can pass named arguments using parameters in the job definition and provide values when submitting the job.  \n",
        "\n",
        "For example, you can define parameters in the job definition like this:  \n",
        "\n",
        "```yaml\n",
        "Parameters:\n",
        "  param1: \"valor_default\"\n",
        "```"
      ],
      "metadata": {
        "id": "jb7_ZjQV0zFJ"
      }
    },
    {
      "cell_type": "markdown",
      "source": [
        "\n",
        "### **AWSLambda**  \n",
        "\n",
        "9. **How can we tell at runtime whether or not a Batch job failed and has been attempted again?**  \n",
        "   - You can use the **AWS Batch Job Retry Attempt Environment Variable** `AWS_BATCH_JOB_ATTEMPT`. On job failure, AWS Batch automatically retries based on the defined retry strategy.\n",
        "     ```python\n",
        "     import os\n",
        "\n",
        "     job_attempt = os.getenv('AWS_BATCH_JOB_ATTEMPT')\n",
        "     if job_attempt and int(job_attempt) > 1:\n",
        "         print(f\"Retry attempt {job_attempt}\")\n",
        "     ```\n",
        "\n",
        "10. **How can we schedule the execution of a Lambda function in regular time intervals?**  \n",
        "      ```\n",
        "      rate(15 minutes) # every 15 minutes\n",
        "      ```\n",
        "\n",
        "11. **How can we execute a Lambda function using Python and once we do, do we have to wait for its results?**  \n",
        "      ```python\n",
        "      import boto3\n",
        "      client = boto3.client('lambda')\n",
        "      response = client.invoke(\n",
        "          FunctionName=\"my-lambda-function\",\n",
        "          InvocationType=\"RequestResponse\",\n",
        "          Payload='{\"key\": \"value\"}'\n",
        "      )\n",
        "      print(response['Payload'].read())\n",
        "      ```"
      ],
      "metadata": {
        "id": "JAGxc5AT06TM"
      }
    },
    {
      "cell_type": "markdown",
      "source": [
        "# Python\n"
      ],
      "metadata": {
        "id": "BCcd1QPU3ctH"
      }
    },
    {
      "cell_type": "markdown",
      "source": [
        "---\n",
        "12. Given the following list, how would you produce a list with duplicate entries removed? entries = ['a','b','c','d','d','d','e','a','b','f','g','g','h']"
      ],
      "metadata": {
        "id": "PjZw0eHnpKzB"
      }
    },
    {
      "cell_type": "code",
      "execution_count": null,
      "metadata": {
        "colab": {
          "base_uri": "https://localhost:8080/"
        },
        "id": "MAJriIRdn_FD",
        "outputId": "9c9ef436-0653-4b6f-a3df-f13bfb996da0"
      },
      "outputs": [
        {
          "output_type": "stream",
          "name": "stdout",
          "text": [
            "{'b', 'd', 'c', 'e', 'h', 'a', 'f', 'g'}\n"
          ]
        }
      ],
      "source": [
        "entries = ['a','b','c','d','d','d','e','a','b','f','g','g','h']\n",
        "entries_without_dups =set(entries)\n",
        "print(entries_without_dups)"
      ]
    },
    {
      "cell_type": "markdown",
      "source": [
        "\n",
        "\n",
        "---\n",
        "\n",
        "\n",
        "13. Given the numbers in the following tuple sequence, how would we obtain a list of their squares?\n",
        " numbers = (1, 2, 3, 4, 5)"
      ],
      "metadata": {
        "id": "2u0Egv3uooD8"
      }
    },
    {
      "cell_type": "code",
      "source": [
        "def squares(numbers):\n",
        "  return [n**2 for n in numbers]\n",
        "\n",
        "numbers=(1, 2, 3, 4, 5)\n",
        "squares(numbers)"
      ],
      "metadata": {
        "colab": {
          "base_uri": "https://localhost:8080/"
        },
        "id": "tLs8GDEuonAE",
        "outputId": "c5fc1fad-71df-4d4c-c655-dfddead9dd3e"
      },
      "execution_count": null,
      "outputs": [
        {
          "output_type": "execute_result",
          "data": {
            "text/plain": [
              "[1, 4, 9, 16, 25]"
            ]
          },
          "metadata": {},
          "execution_count": 14
        }
      ]
    },
    {
      "cell_type": "markdown",
      "source": [
        "---\n",
        "14. Define a function is_palindrome that would return True if the input string is a palindrome (a word, number, phrase, or another sequence of characters which reads the same backward as forward- e.g. madam, racecar), False otherwise:"
      ],
      "metadata": {
        "id": "UKjQj1z1pcHy"
      }
    },
    {
      "cell_type": "code",
      "source": [
        "import re\n",
        "def is_palindrome( input_string ):\n",
        "  clean_input = re.sub(r'[^a-zA-Z0-9]', '', input_string).lower()\n",
        "  return clean_input == clean_input[::-1]\n",
        "\n",
        "tests = [\"madam\",\"racecar\", \"1a1\", \"abcd\", \"wpmudev\" ]\n",
        "frases = [\"Ana lleva al oso la avellana\", \"A man, a plan, a canal: Panama\", \"Oscar Morales Cuellar\"]\n",
        "\n",
        "print([is_palindrome(test) for test in tests])\n",
        "print([is_palindrome(frase) for frase in frases])"
      ],
      "metadata": {
        "colab": {
          "base_uri": "https://localhost:8080/"
        },
        "id": "p6djyJKEpear",
        "outputId": "c60fb220-1534-4b11-bbab-b72dcd342777"
      },
      "execution_count": null,
      "outputs": [
        {
          "output_type": "stream",
          "name": "stdout",
          "text": [
            "[True, True, True, False, False]\n",
            "[True, True, False]\n"
          ]
        }
      ]
    },
    {
      "cell_type": "markdown",
      "source": [
        "---\n",
        "15. Given the following data structure, print a list of pages that have GET as their type and 403 as their status:"
      ],
      "metadata": {
        "id": "MbXH7ETJpb9L"
      }
    },
    {
      "cell_type": "code",
      "source": [
        "responses = [\n",
        "    {\n",
        "        \"type\": \"GET\",\n",
        "        \"status\": 200,\n",
        "        \"page\": \"example.com/one\"\n",
        "    },\n",
        "    {\n",
        "        \"type\": \"POST\",\n",
        "        \"status\": 200,\n",
        "        \"page\": \"example.com/two\"\n",
        "    },\n",
        "    {\n",
        "        \"type\": \"GET\",\n",
        "        \"status\": 404,\n",
        "        \"page\": \"example.com/three\"\n",
        "    },\n",
        "    {\n",
        "        \"type\": \"POST\",\n",
        "        \"status\": 403,\n",
        "        \"page\": \"example.com/four\"\n",
        "    },\n",
        "    {\n",
        "        \"type\": \"GET\",\n",
        "        \"status\": 500,\n",
        "        \"page\": \"example.com/five\"\n",
        "    },\n",
        "    {\n",
        "        \"type\": \"GET\",\n",
        "        \"status\": 403,\n",
        "        \"page\": \"example.com/six\"\n",
        "    },\n",
        "    {\n",
        "        \"type\": \"POST\",\n",
        "        \"status\": 403,\n",
        "        \"page\": \"example.com/seven\"\n",
        "    },\n",
        "    {\n",
        "        \"type\": \"GET\",\n",
        "        \"status\": 403,\n",
        "        \"page\": \"example.com/eight\"\n",
        "    }\n",
        "]\n",
        "\n",
        "\n",
        "def get_403_gets(responses):\n",
        "  return [response for response in responses if response[\"type\"]==\"GET\" and response[\"status\"]==403]\n",
        "print(get_403_gets(responses))\n"
      ],
      "metadata": {
        "colab": {
          "base_uri": "https://localhost:8080/"
        },
        "id": "OEMtPgVBqNYC",
        "outputId": "94b55ff7-254f-439b-dcdc-03118fa57b9f"
      },
      "execution_count": null,
      "outputs": [
        {
          "output_type": "stream",
          "name": "stdout",
          "text": [
            "[{'type': 'GET', 'status': 403, 'page': 'example.com/six'}, {'type': 'GET', 'status': 403, 'page': 'example.com/eight'}]\n"
          ]
        }
      ]
    }
  ]
}